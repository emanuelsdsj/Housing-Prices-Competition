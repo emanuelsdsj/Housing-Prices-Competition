{
 "cells": [
  {
   "cell_type": "code",
   "execution_count": 14,
   "metadata": {},
   "outputs": [
    {
     "name": "stdout",
     "output_type": "stream",
     "text": [
      "    MSSubClass MSZoning  LotFrontage  LotArea Street Alley LotShape  \\\n",
      "Id                                                                    \n",
      "1           60       RL         65.0     8450   Pave   NaN      Reg   \n",
      "2           20       RL         80.0     9600   Pave   NaN      Reg   \n",
      "3           60       RL         68.0    11250   Pave   NaN      IR1   \n",
      "4           70       RL         60.0     9550   Pave   NaN      IR1   \n",
      "5           60       RL         84.0    14260   Pave   NaN      IR1   \n",
      "\n",
      "   LandContour Utilities LotConfig  ... PoolArea PoolQC Fence MiscFeature  \\\n",
      "Id                                  ...                                     \n",
      "1          Lvl    AllPub    Inside  ...        0    NaN   NaN         NaN   \n",
      "2          Lvl    AllPub       FR2  ...        0    NaN   NaN         NaN   \n",
      "3          Lvl    AllPub    Inside  ...        0    NaN   NaN         NaN   \n",
      "4          Lvl    AllPub    Corner  ...        0    NaN   NaN         NaN   \n",
      "5          Lvl    AllPub       FR2  ...        0    NaN   NaN         NaN   \n",
      "\n",
      "   MiscVal MoSold  YrSold  SaleType  SaleCondition  SalePrice  \n",
      "Id                                                             \n",
      "1        0      2    2008        WD         Normal     208500  \n",
      "2        0      5    2007        WD         Normal     181500  \n",
      "3        0      9    2008        WD         Normal     223500  \n",
      "4        0      2    2006        WD        Abnorml     140000  \n",
      "5        0     12    2008        WD         Normal     250000  \n",
      "\n",
      "[5 rows x 80 columns]\n",
      "(1460, 80)\n"
     ]
    }
   ],
   "source": [
    "# Core\n",
    "import pandas as pd\n",
    "import numpy as np\n",
    "\n",
    "# Data Visualisation\n",
    "import matplotlib.pyplot as plt\n",
    "import seaborn as sns\n",
    "%matplotlib inline\n",
    "\n",
    "# Imputer, StandardScaler, TrainTestSplit\n",
    "from sklearn.preprocessing import StandardScaler\n",
    "from sklearn.impute import SimpleImputer\n",
    "from sklearn.model_selection import train_test_split\n",
    "\n",
    "# Machine Learning\n",
    "from sklearn.metrics import mean_absolute_error\n",
    "from sklearn.linear_model import Lasso\n",
    "from sklearn.linear_model import LinearRegression\n",
    "from sklearn.linear_model import Ridge\n",
    "from sklearn.linear_model import ElasticNet\n",
    "from sklearn.neighbors import KNeighborsRegressor\n",
    "from sklearn.svm import SVR\n",
    "from sklearn.ensemble import RandomForestRegressor\n",
    "from sklearn.ensemble import GradientBoostingRegressor\n",
    "from sklearn.ensemble import AdaBoostRegressor\n",
    "from sklearn.tree import DecisionTreeRegressor\n",
    "from xgboost import XGBRegressor\n",
    "\n",
    "# Path of the file to read.\n",
    "file_path = 'Data/train.csv'\n",
    "test_data_path = 'Data/test.csv'\n",
    "\n",
    "# Load data into a pandas DataFrame. Note: 1st column is ID\n",
    "home_data = pd.read_csv(file_path, index_col=0)\n",
    "test_data = pd.read_csv(test_data_path, index_col=0)\n",
    "\n",
    "print(home_data.head())\n",
    "print(home_data.shape)"
   ]
  },
  {
   "cell_type": "code",
   "execution_count": null,
   "metadata": {},
   "outputs": [],
   "source": [
    "# -\n",
    "# -\n",
    "# -\n",
    "# -\n",
    "# -\n",
    "# -\n",
    "# -\n",
    "# -\n",
    "# -\n",
    "# -"
   ]
  },
  {
   "cell_type": "code",
   "execution_count": null,
   "metadata": {},
   "outputs": [],
   "source": [
    "# Numerical Columns"
   ]
  },
  {
   "cell_type": "code",
   "execution_count": null,
   "metadata": {},
   "outputs": [],
   "source": [
    "print(home_data.select_dtypes(exclude=['object']).columns)\n",
    "print(len(home_data.select_dtypes(exclude='object').columns))"
   ]
  },
  {
   "cell_type": "code",
   "execution_count": null,
   "metadata": {},
   "outputs": [],
   "source": [
    "home_data.select_dtypes(exclude=['object']).describe().round(decimals=2)"
   ]
  },
  {
   "cell_type": "code",
   "execution_count": null,
   "metadata": {},
   "outputs": [],
   "source": [
    "# -\n",
    "# -\n",
    "# -\n",
    "# -\n",
    "# -\n",
    "# -\n",
    "# -\n",
    "# -\n",
    "# -\n",
    "# -"
   ]
  },
  {
   "cell_type": "code",
   "execution_count": null,
   "metadata": {},
   "outputs": [],
   "source": [
    "# Categorical Columns"
   ]
  },
  {
   "cell_type": "code",
   "execution_count": null,
   "metadata": {},
   "outputs": [],
   "source": [
    "print(home_data.select_dtypes(include=['object']).columns)\n",
    "print(len(home_data.select_dtypes(include='object').columns))"
   ]
  },
  {
   "cell_type": "code",
   "execution_count": null,
   "metadata": {},
   "outputs": [],
   "source": [
    "home_data.select_dtypes(include=['object']).describe()"
   ]
  },
  {
   "cell_type": "code",
   "execution_count": null,
   "metadata": {},
   "outputs": [],
   "source": [
    "# -\n",
    "# -\n",
    "# -\n",
    "# -\n",
    "# -\n",
    "# -\n",
    "# -\n",
    "# -\n",
    "# -\n",
    "# -"
   ]
  },
  {
   "cell_type": "code",
   "execution_count": null,
   "metadata": {},
   "outputs": [],
   "source": [
    "# Skew of target column\n",
    "\n",
    "# It appears to be good practice to minimise the skew of the dataset. The reason often given is that skewed data adversely \n",
    "# affects the prediction accuracy of regression models.\n",
    "\n",
    "# Note: While important for linear regression, correcting skew is not necessary for Decisions Trees and Random Forests.\n",
    "\n",
    "# Exploring Numerical Data"
   ]
  },
  {
   "cell_type": "code",
   "execution_count": 15,
   "metadata": {},
   "outputs": [
    {
     "data": {
      "image/png": "[encoded data removed]",
      "text/plain": [
       "<Figure size 432x288 with 1 Axes>"
      ]
     },
     "metadata": {
      "needs_background": "light"
     },
     "output_type": "display_data"
    }
   ],
   "source": [
    "target = home_data.SalePrice\n",
    "plt.figure()\n",
    "sns.distplot(target)\n",
    "plt.title('Distribution of SalePrice')\n",
    "plt.show()"
   ]
  },
  {
   "cell_type": "code",
   "execution_count": null,
   "metadata": {},
   "outputs": [],
   "source": [
    "sns.distplot(np.log(target))\n",
    "plt.title('Distribution of Log-transformed SalePrice')\n",
    "plt.xlabel('log(SalePrice)')\n",
    "plt.show()"
   ]
  },
  {
   "cell_type": "code",
   "execution_count": null,
   "metadata": {},
   "outputs": [],
   "source": [
    "print('SalePrice has a skew of ' + str(target.skew().round(decimals=2)) + \n",
    "      ' while the log-transformed SalePrice improves the skew to ' + \n",
    "      str(np.log(target).skew().round(decimals=2)))"
   ]
  },
  {
   "cell_type": "code",
   "execution_count": null,
   "metadata": {},
   "outputs": [],
   "source": [
    "# Checking skew data\n",
    "num_attributes = home_data.select_dtypes(exclude='object').drop('SalePrice', axis=1).copy()\n",
    "\n",
    "fig = plt.figure(figsize=(12,18))\n",
    "for i in range(len(num_attributes.columns)):\n",
    "    fig.add_subplot(9,4,i+1)\n",
    "    sns.distplot(num_attributes.iloc[:,i].dropna())\n",
    "    plt.xlabel(num_attributes.columns[i])\n",
    "\n",
    "plt.tight_layout()\n",
    "plt.show()\n",
    "\n",
    "# columns that have skew data: LotFrontage, LotArea, 1stFlrSF, GrLivArea, OpenPorchSF\n",
    "# A few outliers on the LotFrontage (say, >200) and LotArea (>100000) data.\n",
    "# BsmtFinSF1 (>4000) and TotalBsmtSF (>6000)\n",
    "# 1stFlrSF (>4000)\n",
    "# GrLivArea (>4000 AND SalePrice <300000)\n",
    "# LowQualFinSF (>550)"
   ]
  },
  {
   "cell_type": "code",
   "execution_count": null,
   "metadata": {},
   "outputs": [],
   "source": [
    "# Missing Values\n",
    "home_data.select_dtypes(exclude='object').isna().sum().sort_values(ascending=False).head()"
   ]
  },
  {
   "cell_type": "code",
   "execution_count": null,
   "metadata": {},
   "outputs": [],
   "source": [
    "# -\n",
    "# -\n",
    "# -\n",
    "# -\n",
    "# -\n",
    "# -\n",
    "# -\n",
    "# -\n",
    "# -\n",
    "# -"
   ]
  },
  {
   "cell_type": "code",
   "execution_count": null,
   "metadata": {},
   "outputs": [],
   "source": [
    "# Exploring Categorical Data"
   ]
  },
  {
   "cell_type": "code",
   "execution_count": null,
   "metadata": {},
   "outputs": [],
   "source": [
    "cat_columns = home_data.select_dtypes(include='object').columns\n",
    "print(cat_columns)"
   ]
  },
  {
   "cell_type": "code",
   "execution_count": null,
   "metadata": {},
   "outputs": [],
   "source": [
    "var = home_data['KitchenQual']\n",
    "f, ax = plt.subplots(figsize=(10,6))\n",
    "sns.boxplot(y=home_data.SalePrice, x=var)\n",
    "plt.show()"
   ]
  },
  {
   "cell_type": "code",
   "execution_count": null,
   "metadata": {},
   "outputs": [],
   "source": [
    "f, ax = plt.subplots(figsize=(12,8))\n",
    "sns.boxplot(y=home_data.SalePrice, x=home_data.Neighborhood)\n",
    "plt.xticks(rotation=40)\n",
    "plt.show()"
   ]
  },
  {
   "cell_type": "code",
   "execution_count": null,
   "metadata": {},
   "outputs": [],
   "source": [
    "# Count of categories per Neighborhood attribute\n",
    "fig = plt.figure(figsize=(12.5,4))\n",
    "sns.countplot(x='Neighborhood', data=home_data)\n",
    "plt.xticks(rotation=90)\n",
    "plt.ylabel('Frequency')\n",
    "plt.show()"
   ]
  },
  {
   "cell_type": "code",
   "execution_count": null,
   "metadata": {},
   "outputs": [],
   "source": [
    "# Missing Values\n",
    "home_data.select_dtypes(include='object').isna().sum().sort_values(ascending=False).head(17)"
   ]
  },
  {
   "cell_type": "code",
   "execution_count": null,
   "metadata": {},
   "outputs": [],
   "source": [
    "# -\n",
    "# -\n",
    "# -\n",
    "# -\n",
    "# -\n",
    "# -\n",
    "# -\n",
    "# -\n",
    "# -\n",
    "# -"
   ]
  },
  {
   "cell_type": "code",
   "execution_count": null,
   "metadata": {},
   "outputs": [],
   "source": [
    "# Cleaning Data and transforming"
   ]
  },
  {
   "cell_type": "code",
   "execution_count": 16,
   "metadata": {},
   "outputs": [
    {
     "data": {
      "text/plain": [
       "LotFrontage    259\n",
       "GarageYrBlt     81\n",
       "Electrical       1\n",
       "SalePrice        0\n",
       "Foundation       0\n",
       "dtype: int64"
      ]
     },
     "execution_count": 16,
     "metadata": {},
     "output_type": "execute_result"
    }
   ],
   "source": [
    "# Create copy of dataset\n",
    "home_data_copy = home_data.copy()\n",
    "\n",
    "# Dealing with missing/null values\n",
    "# Numerical columns:\n",
    "home_data_copy.MasVnrArea = home_data_copy.MasVnrArea.fillna(0)\n",
    "# HOW TO TREAT LotFrontage - 259 missing values??\n",
    "\n",
    "# Categorical columns:\n",
    "cat_cols_fill_none = ['PoolQC', 'MiscFeature', 'Alley', 'Fence', 'FireplaceQu',\n",
    "                     'GarageCond', 'GarageQual', 'GarageFinish', 'GarageType',\n",
    "                     'BsmtFinType2', 'BsmtExposure', 'BsmtFinType1', 'BsmtQual', 'BsmtCond',\n",
    "                     'MasVnrType']\n",
    "\n",
    "for cat in cat_cols_fill_none:\n",
    "    home_data_copy[cat] = home_data_copy[cat].fillna(\"None\")\n",
    "    \n",
    "# Test data preparation\n",
    "\n",
    "# create test_X which to perform all previous pre-processing on\n",
    "test_data_copy = test_data.copy()\n",
    "\n",
    "# Repeat treatments for missing/null values =====================================\n",
    "# Numerical columns:\n",
    "test_data_copy.MasVnrArea = test_data_copy.MasVnrArea.fillna(0)\n",
    "\n",
    "# Categorical columns:\n",
    "for cat in cat_cols_fill_none:\n",
    "    test_data_copy[cat] = test_data_copy[cat].fillna(\"None\")\n",
    "\n",
    "# Missing Values\n",
    "home_data_copy.isna().sum().sort_values(ascending=False).head()"
   ]
  },
  {
   "cell_type": "code",
   "execution_count": 17,
   "metadata": {},
   "outputs": [
    {
     "name": "stdout",
     "output_type": "stream",
     "text": [
      "    MSSubClass MSZoning  LotFrontage  LotArea Street Alley LotShape  \\\n",
      "Id                                                                    \n",
      "1           60       RL         65.0     8450   Pave  None      Reg   \n",
      "2           20       RL         80.0     9600   Pave  None      Reg   \n",
      "3           60       RL         68.0    11250   Pave  None      IR1   \n",
      "4           70       RL         60.0     9550   Pave  None      IR1   \n",
      "5           60       RL         84.0    14260   Pave  None      IR1   \n",
      "\n",
      "   LandContour Utilities LotConfig  ... PoolArea PoolQC Fence MiscFeature  \\\n",
      "Id                                  ...                                     \n",
      "1          Lvl    AllPub    Inside  ...        0   None  None        None   \n",
      "2          Lvl    AllPub       FR2  ...        0   None  None        None   \n",
      "3          Lvl    AllPub    Inside  ...        0   None  None        None   \n",
      "4          Lvl    AllPub    Corner  ...        0   None  None        None   \n",
      "5          Lvl    AllPub       FR2  ...        0   None  None        None   \n",
      "\n",
      "   MiscVal MoSold  YrSold  SaleType  SaleCondition  SalePrice_log  \n",
      "Id                                                                 \n",
      "1        0      2    2008        WD         Normal      12.247694  \n",
      "2        0      5    2007        WD         Normal      12.109011  \n",
      "3        0      9    2008        WD         Normal      12.317167  \n",
      "4        0      2    2006        WD        Abnorml      11.849398  \n",
      "5        0     12    2008        WD         Normal      12.429216  \n",
      "\n",
      "[5 rows x 80 columns]\n"
     ]
    }
   ],
   "source": [
    "# Remove outliers based on observations on scatter plots against SalePrice:\n",
    "home_data_copy = home_data_copy.drop(home_data_copy['LotFrontage']\n",
    "                                     [home_data_copy['LotFrontage']>200].index)\n",
    "home_data_copy = home_data_copy.drop(home_data_copy['LotArea']\n",
    "                                     [home_data_copy['LotArea']>100000].index)\n",
    "home_data_copy = home_data_copy.drop(home_data_copy['BsmtFinSF1']\n",
    "                                     [home_data_copy['BsmtFinSF1']>4000].index)\n",
    "home_data_copy = home_data_copy.drop(home_data_copy['TotalBsmtSF']\n",
    "                                     [home_data_copy['TotalBsmtSF']>6000].index)\n",
    "home_data_copy = home_data_copy.drop(home_data_copy['1stFlrSF']\n",
    "                                     [home_data_copy['1stFlrSF']>4000].index)\n",
    "home_data_copy = home_data_copy.drop(home_data_copy.GrLivArea\n",
    "                                     [(home_data_copy['GrLivArea']>4000) & \n",
    "                                      (target<300000)].index)\n",
    "home_data_copy = home_data_copy.drop(home_data_copy.LowQualFinSF\n",
    "                                     [home_data_copy['LowQualFinSF']>550].index)\n",
    "\n",
    "# A few outliers on the LotFrontage (say, >200) and LotArea (>100000) data.\n",
    "# BsmtFinSF1 (>4000) and TotalBsmtSF (>6000)\n",
    "# 1stFlrSF (>4000)\n",
    "# GrLivArea (>4000 AND SalePrice <300000)\n",
    "# LowQualFinSF (>550)\n",
    "\n",
    "# Reduce skew\n",
    "home_data_copy['SalePrice'] = np.log(home_data_copy['SalePrice'])\n",
    "home_data_copy = home_data_copy.rename(columns={'SalePrice': 'SalePrice_log'})\n",
    "print(home_data_copy.head())"
   ]
  },
  {
   "cell_type": "code",
   "execution_count": null,
   "metadata": {},
   "outputs": [],
   "source": [
    "# Transforming data"
   ]
  },
  {
   "cell_type": "code",
   "execution_count": 18,
   "metadata": {},
   "outputs": [
    {
     "data": {
      "image/png": "[encoded data removed]",
      "text/plain": [
       "<Figure size 864x720 with 2 Axes>"
      ]
     },
     "metadata": {
      "needs_background": "light"
     },
     "output_type": "display_data"
    }
   ],
   "source": [
    "# Checking corr and choosing attributes to be removed\n",
    "\n",
    "transformed_corr = home_data_copy.corr()\n",
    "plt.figure(figsize=(12,10))\n",
    "sns.heatmap(transformed_corr)\n",
    "\n",
    "# Highly-correlated attributes\n",
    "# GarageCars and GarageArea (0.882)\n",
    "# YearBuilt and GarageYrBlt (0.826)\n",
    "# GrLivArea_log1p and TotRmsAbvGrd (0.826)\n",
    "\n",
    "# Remove one of the Highly-correlated attributes for the train_X and test_X data\n",
    "attributes_corr_drop = ['SalePrice_log', 'GarageCars', 'GarageYrBlt', 'TotRmsAbvGrd']"
   ]
  },
  {
   "cell_type": "code",
   "execution_count": null,
   "metadata": {},
   "outputs": [],
   "source": [
    "# -\n",
    "# -\n",
    "# -\n",
    "# -\n",
    "# -\n",
    "# -\n",
    "# -\n",
    "# -\n",
    "# -\n",
    "# -"
   ]
  },
  {
   "cell_type": "code",
   "execution_count": null,
   "metadata": {},
   "outputs": [],
   "source": [
    "# Machine Learning"
   ]
  },
  {
   "cell_type": "code",
   "execution_count": null,
   "metadata": {},
   "outputs": [],
   "source": [
    "# Preparation for machine learning"
   ]
  },
  {
   "cell_type": "code",
   "execution_count": 19,
   "metadata": {},
   "outputs": [],
   "source": [
    "# Train data preparation\n",
    "\n",
    "X = home_data_copy.drop(attributes_corr_drop, axis=1)\n",
    "\n",
    "# Target\n",
    "y = home_data_copy.SalePrice_log\n",
    "\n",
    "# One-hot encoding for categorical data\n",
    "X = pd.get_dummies(X)\n",
    "\n",
    "train_X, val_X, train_y, val_y = train_test_split(X, y, random_state=1)\n",
    "\n",
    "# Final imputation of missing data - to address those outstanding after previous section\n",
    "my_imputer = SimpleImputer()\n",
    "train_X = my_imputer.fit_transform(train_X)\n",
    "val_X = my_imputer.transform(val_X)\n",
    "\n",
    "#Test data preparation\n",
    "\n",
    "# Drop in test data\n",
    "if 'SalePrice_log' in attributes_corr_drop:\n",
    "    attributes_corr_drop.remove('SalePrice_log')\n",
    "\n",
    "test_data_copy = test_data.drop(attributes_corr_drop, axis=1)\n",
    "\n",
    "test_X = test_data_copy\n",
    "\n",
    "# One-hot encoding for categorical data\n",
    "test_X = pd.get_dummies(test_X)\n",
    "\n",
    "# Ensure test data is encoded in the same manner as training data with align command\n",
    "final_train, final_test = X.align(test_X, join='left', axis=1)\n",
    "\n",
    "# Imputer for all other missing values in test data. Note: Do not 'fit_transform'\n",
    "final_test_imputed = my_imputer.transform(final_test)"
   ]
  },
  {
   "cell_type": "code",
   "execution_count": null,
   "metadata": {},
   "outputs": [],
   "source": [
    "# -\n",
    "# -\n",
    "# -\n",
    "# -\n",
    "# -\n",
    "# -\n",
    "# -\n",
    "# -\n",
    "# -\n",
    "# -"
   ]
  },
  {
   "cell_type": "code",
   "execution_count": null,
   "metadata": {},
   "outputs": [],
   "source": [
    "# Getting the best model"
   ]
  },
  {
   "cell_type": "code",
   "execution_count": 20,
   "metadata": {},
   "outputs": [
    {
     "name": "stderr",
     "output_type": "stream",
     "text": [
      "/home/emanuelssj/anaconda3/lib/python3.7/site-packages/sklearn/ensemble/forest.py:246: FutureWarning: The default value of n_estimators will change from 10 in version 0.20 to 100 in 0.22.\n",
      "  \"10 in version 0.20 to 100 in 0.22.\", FutureWarning)\n",
      "/home/emanuelssj/anaconda3/lib/python3.7/site-packages/xgboost/core.py:587: FutureWarning: Series.base is deprecated and will be removed in a future version\n",
      "  if getattr(data, 'base', None) is not None and \\\n"
     ]
    },
    {
     "name": "stdout",
     "output_type": "stream",
     "text": [
      "MAE values for different algorithms:\n"
     ]
    },
    {
     "data": {
      "text/plain": [
       "Algorithm\n",
       "Lasso                              13752.0\n",
       "Ridge                              14602.0\n",
       "XGBoost                            14646.0\n",
       "LinearRegression                   14874.0\n",
       "GradientBoosting                   15350.0\n",
       "ElasticNet                         16590.0\n",
       "RandomForest                       17972.0\n",
       "DecisionTree_opt_max_leaf_nodes    22221.0\n",
       "KNN                                28650.0\n",
       "dtype: float64"
      ]
     },
     "execution_count": 20,
     "metadata": {},
     "output_type": "execute_result"
    }
   ],
   "source": [
    "# Reminder: target is now log(SalePrice). After prediction call, need to inverse-transform to obtain SalePrice!\n",
    "\n",
    "def inv_y(transformed_y):\n",
    "    return np.exp(transformed_y)\n",
    "\n",
    "# Series to collate mean absolute errors for each algorithm\n",
    "mae_compare = pd.Series()\n",
    "mae_compare.index.name = 'Algorithm'\n",
    "\n",
    "#Decision Tree. Using best value for max_leaf_nodes\n",
    "iowa_model = DecisionTreeRegressor(max_leaf_nodes=90, random_state=1)\n",
    "iowa_model.fit(train_X, train_y)\n",
    "val_predictions = iowa_model.predict(val_X)\n",
    "val_mae = mean_absolute_error(inv_y(val_predictions), inv_y(val_y))\n",
    "mae_compare['DecisionTree_opt_max_leaf_nodes'] = val_mae\n",
    "# print(\"Validation MAE for Decision Tree with best value of max_leaf_nodes: {:,.0f}\".format(val_mae))\n",
    "\n",
    "# Random Forest\n",
    "rf_model = RandomForestRegressor(random_state=5)\n",
    "rf_model.fit(train_X, train_y)\n",
    "rf_val_predictions = rf_model.predict(val_X)\n",
    "rf_val_mae = mean_absolute_error(inv_y(rf_val_predictions), inv_y(val_y))\n",
    "\n",
    "mae_compare['RandomForest'] = rf_val_mae\n",
    "# print(\"Validation MAE for Random Forest Model: {:,.0f}\".format(rf_val_mae))\n",
    "\n",
    "\n",
    "# XGBoost.\n",
    "xgb_model = XGBRegressor(n_estimators=1000, learning_rate=0.05)\n",
    "xgb_model.fit(train_X, train_y, early_stopping_rounds=5, \n",
    "              eval_set=[(val_X,val_y)], verbose=False)\n",
    "xgb_val_predictions = xgb_model.predict(val_X)\n",
    "xgb_val_mae = mean_absolute_error(inv_y(xgb_val_predictions), inv_y(val_y))\n",
    "\n",
    "mae_compare['XGBoost'] = xgb_val_mae\n",
    "# print(\"Validation MAE for XGBoost Model: {:,.0f}\".format(xgb_val_mae))\n",
    "\n",
    "# Linear Regression\n",
    "linear_model = LinearRegression()\n",
    "linear_model.fit(train_X, train_y)\n",
    "linear_val_predictions = linear_model.predict(val_X)\n",
    "linear_val_mae = mean_absolute_error(inv_y(linear_val_predictions), inv_y(val_y))\n",
    "\n",
    "mae_compare['LinearRegression'] = linear_val_mae\n",
    "# print(\"Validation MAE for Linear Regression Model: {:,.0f}\".format(linear_val_mae))\n",
    "\n",
    "# Lasso\n",
    "lasso_model = Lasso(alpha=0.0005, random_state=5)\n",
    "lasso_model.fit(train_X, train_y)\n",
    "lasso_val_predictions = lasso_model.predict(val_X)\n",
    "lasso_val_mae = mean_absolute_error(inv_y(lasso_val_predictions), inv_y(val_y))\n",
    "\n",
    "mae_compare['Lasso'] = lasso_val_mae\n",
    "# print(\"Validation MAE for Lasso Model: {:,.0f}\".format(lasso_val_mae))\n",
    "\n",
    "# Ridge\n",
    "ridge_model = Ridge(alpha=0.002, random_state=5)\n",
    "ridge_model.fit(train_X, train_y)\n",
    "ridge_val_predictions = ridge_model.predict(val_X)\n",
    "ridge_val_mae = mean_absolute_error(inv_y(ridge_val_predictions), inv_y(val_y))\n",
    "\n",
    "mae_compare['Ridge'] = ridge_val_mae\n",
    "# print(\"Validation MAE for Ridge Regression Model: {:,.0f}\".format(ridge_val_mae))\n",
    "\n",
    "# ElasticNet\n",
    "elastic_net_model = ElasticNet(alpha=0.02, random_state=5, l1_ratio=0.7)\n",
    "elastic_net_model.fit(train_X, train_y)\n",
    "elastic_net_val_predictions = elastic_net_model.predict(val_X)\n",
    "elastic_net_val_mae = mean_absolute_error(inv_y(elastic_net_val_predictions), inv_y(val_y))\n",
    "\n",
    "mae_compare['ElasticNet'] = elastic_net_val_mae\n",
    "# print(\"Validation MAE for Elastic Net Model: {:,.0f}\".format(elastic_net_val_mae))\n",
    "\n",
    "#KNN Regression\n",
    "knn_model = KNeighborsRegressor()\n",
    "knn_model.fit(train_X, train_y)\n",
    "knn_val_predictions = knn_model.predict(val_X)\n",
    "knn_val_mae = mean_absolute_error(inv_y(knn_val_predictions), inv_y(val_y))\n",
    "\n",
    "mae_compare['KNN'] = knn_val_mae\n",
    "# print(\"Validation MAE for KNN Model: {:,.0f}\".format(knn_val_mae))\n",
    "\n",
    "# Gradient Boosting Regression\n",
    "gbr_model = GradientBoostingRegressor(n_estimators=300, learning_rate=0.05, \n",
    "                                      max_depth=4, random_state=5)\n",
    "gbr_model.fit(train_X, train_y)\n",
    "gbr_val_predictions = gbr_model.predict(val_X)\n",
    "gbr_val_mae = mean_absolute_error(inv_y(gbr_val_predictions), inv_y(val_y))\n",
    "\n",
    "mae_compare['GradientBoosting'] = gbr_val_mae\n",
    "# print(\"Validation MAE for GradientBoosting Model: {:,.0f}\".format(gbr_val_mae))\n",
    "\n",
    "print('MAE values for different algorithms:')\n",
    "mae_compare.sort_values(ascending=True).round()"
   ]
  },
  {
   "cell_type": "code",
   "execution_count": null,
   "metadata": {},
   "outputs": [],
   "source": [
    "# -\n",
    "# -\n",
    "# -\n",
    "# -\n",
    "# -\n",
    "# -\n",
    "# -\n",
    "# -\n",
    "# -\n",
    "# -"
   ]
  },
  {
   "cell_type": "code",
   "execution_count": null,
   "metadata": {},
   "outputs": [],
   "source": [
    "# Cross-validation in the best models\n",
    "\n",
    "from sklearn.model_selection import cross_val_score\n",
    "\n",
    "imputer = SimpleImputer()\n",
    "imputed_X = imputer.fit_transform(X)\n",
    "n_folds = 10"
   ]
  },
  {
   "cell_type": "code",
   "execution_count": null,
   "metadata": {},
   "outputs": [],
   "source": [
    "# Lasso\n",
    "scores = cross_val_score(lasso_model, imputed_X, y, scoring='neg_mean_squared_error', \n",
    "                         cv=n_folds)\n",
    "lasso_mae_scores = np.sqrt(-scores)\n",
    "\n",
    "print('For LASSO model:')\n",
    "print('Mean RMSE = ' + str(lasso_mae_scores.mean().round(decimals=3)))\n",
    "print('Error std deviation = ' +str(lasso_mae_scores.std().round(decimals=3)))"
   ]
  },
  {
   "cell_type": "code",
   "execution_count": null,
   "metadata": {},
   "outputs": [],
   "source": [
    "scores = cross_val_score(rf_model, imputed_X, y, scoring='neg_mean_squared_error', \n",
    "                         cv=n_folds)\n",
    "mae_scores = np.sqrt(-scores)\n",
    "\n",
    "print('For Random Forest model:')\n",
    "print('Mean RMSE = ' + str(mae_scores.mean().round(decimals=3)))\n",
    "print('Error std deviation = ' +str(mae_scores.std().round(decimals=3)))"
   ]
  },
  {
   "cell_type": "code",
   "execution_count": null,
   "metadata": {},
   "outputs": [],
   "source": [
    "scores = cross_val_score(ridge_model, imputed_X, y, scoring='neg_mean_squared_error', \n",
    "                         cv=n_folds)\n",
    "mae_scores = np.sqrt(-scores)\n",
    "\n",
    "print('For Ridge model:')\n",
    "print('Mean RMSE = ' + str(mae_scores.mean().round(decimals=3)))\n",
    "print('Error std deviation = ' +str(mae_scores.std().round(decimals=3)))"
   ]
  },
  {
   "cell_type": "code",
   "execution_count": null,
   "metadata": {},
   "outputs": [],
   "source": [
    "# -\n",
    "# -\n",
    "# -\n",
    "# -\n",
    "# -\n",
    "# -\n",
    "# -\n",
    "# -\n",
    "# -\n",
    "# -"
   ]
  },
  {
   "cell_type": "code",
   "execution_count": null,
   "metadata": {},
   "outputs": [],
   "source": [
    "# Grid search for hyperparameter tuning"
   ]
  },
  {
   "cell_type": "code",
   "execution_count": null,
   "metadata": {},
   "outputs": [],
   "source": [
    "# Tuning Lasso\n",
    "from sklearn.model_selection import GridSearchCV\n",
    "\n",
    "param_grid = [{'alpha': [0.0007, 0.0005, 0.005]}]\n",
    "top_reg = Lasso()\n",
    "\n",
    "grid_search = GridSearchCV(top_reg, param_grid, cv=5, \n",
    "                           scoring='neg_mean_squared_error')\n",
    "\n",
    "grid_search.fit(imputed_X, y)\n",
    "\n",
    "grid_search.best_params_"
   ]
  },
  {
   "cell_type": "code",
   "execution_count": null,
   "metadata": {},
   "outputs": [],
   "source": [
    "# Tuning Ridge\n",
    "from sklearn.model_selection import GridSearchCV\n",
    "\n",
    "param_grid = [{'alpha': [0.0005, 0.0002, 0.002]}]\n",
    "top_reg = Ridge()\n",
    "\n",
    "grid_search = GridSearchCV(top_reg, param_grid, cv=5, \n",
    "                           scoring='neg_mean_squared_error')\n",
    "\n",
    "grid_search.fit(imputed_X, y)\n",
    "\n",
    "grid_search.best_params_"
   ]
  },
  {
   "cell_type": "code",
   "execution_count": null,
   "metadata": {},
   "outputs": [],
   "source": [
    "# -\n",
    "# -\n",
    "# -\n",
    "# -\n",
    "# -\n",
    "# -\n",
    "# -\n",
    "# -\n",
    "# -\n",
    "# -"
   ]
  },
  {
   "cell_type": "code",
   "execution_count": null,
   "metadata": {},
   "outputs": [],
   "source": [
    "# Choosing best model"
   ]
  },
  {
   "cell_type": "code",
   "execution_count": null,
   "metadata": {},
   "outputs": [],
   "source": [
    "# Best model = Lasso?\n",
    "# Best score: 13178.87052\n",
    "final_model = Lasso(alpha=0.0005, random_state=5)\n",
    "\n",
    "final_train_imputed = my_imputer.fit_transform(final_train)\n",
    "\n",
    "final_model.fit(final_train_imputed, y)\n",
    "\n",
    "test_preds = final_model.predict(final_test_imputed)"
   ]
  },
  {
   "cell_type": "code",
   "execution_count": null,
   "metadata": {},
   "outputs": [],
   "source": [
    "# Best model = Ridge?\n",
    "# Best score: 13178.87052\n",
    "final_model = Lasso(alpha=0.0005, random_state=5)\n",
    "\n",
    "final_train_imputed = my_imputer.fit_transform(final_train)\n",
    "\n",
    "final_model.fit(final_train_imputed, y)\n",
    " \n",
    "test_preds = final_model.predict(final_test_imputed)"
   ]
  },
  {
   "cell_type": "code",
   "execution_count": null,
   "metadata": {},
   "outputs": [],
   "source": [
    "# Best model = Random Forest Regressor?\n",
    "# Best score: 17277.17952\n",
    "final_model = RandomForestRegressor(n_estimators=10, random_state=5)\n",
    "\n",
    "final_train_imputed = my_imputer.fit_transform(final_train)\n",
    "\n",
    "final_model.fit(final_train_imputed, y)\n",
    "\n",
    "test_preds = final_model.predict(final_test_imputed)"
   ]
  },
  {
   "cell_type": "code",
   "execution_count": 21,
   "metadata": {},
   "outputs": [
    {
     "ename": "AttributeError",
     "evalue": "'DataFrame' object has no attribute 'Id'",
     "output_type": "error",
     "traceback": [
      "\u001b[0;31m---------------------------------------------------------------------------\u001b[0m",
      "\u001b[0;31mAttributeError\u001b[0m                            Traceback (most recent call last)",
      "\u001b[0;32m<ipython-input-21-289dbf6ad0f6>\u001b[0m in \u001b[0;36m<module>\u001b[0;34m\u001b[0m\n\u001b[0;32m----> 1\u001b[0;31m output = pd.DataFrame({'Id': test_data.Id,\n\u001b[0m\u001b[1;32m      2\u001b[0m                        'SalePrice': inv_y(test_preds)})\n\u001b[1;32m      3\u001b[0m \u001b[0;34m\u001b[0m\u001b[0m\n\u001b[1;32m      4\u001b[0m \u001b[0moutput\u001b[0m\u001b[0;34m.\u001b[0m\u001b[0mto_csv\u001b[0m\u001b[0;34m(\u001b[0m\u001b[0;34m'submission.csv'\u001b[0m\u001b[0;34m,\u001b[0m \u001b[0mindex\u001b[0m\u001b[0;34m=\u001b[0m\u001b[0;32mFalse\u001b[0m\u001b[0;34m)\u001b[0m\u001b[0;34m\u001b[0m\u001b[0;34m\u001b[0m\u001b[0m\n",
      "\u001b[0;32m~/anaconda3/lib/python3.7/site-packages/pandas/core/generic.py\u001b[0m in \u001b[0;36m__getattr__\u001b[0;34m(self, name)\u001b[0m\n\u001b[1;32m   5065\u001b[0m             \u001b[0;32mif\u001b[0m \u001b[0mself\u001b[0m\u001b[0;34m.\u001b[0m\u001b[0m_info_axis\u001b[0m\u001b[0;34m.\u001b[0m\u001b[0m_can_hold_identifiers_and_holds_name\u001b[0m\u001b[0;34m(\u001b[0m\u001b[0mname\u001b[0m\u001b[0;34m)\u001b[0m\u001b[0;34m:\u001b[0m\u001b[0;34m\u001b[0m\u001b[0;34m\u001b[0m\u001b[0m\n\u001b[1;32m   5066\u001b[0m                 \u001b[0;32mreturn\u001b[0m \u001b[0mself\u001b[0m\u001b[0;34m[\u001b[0m\u001b[0mname\u001b[0m\u001b[0;34m]\u001b[0m\u001b[0;34m\u001b[0m\u001b[0;34m\u001b[0m\u001b[0m\n\u001b[0;32m-> 5067\u001b[0;31m             \u001b[0;32mreturn\u001b[0m \u001b[0mobject\u001b[0m\u001b[0;34m.\u001b[0m\u001b[0m__getattribute__\u001b[0m\u001b[0;34m(\u001b[0m\u001b[0mself\u001b[0m\u001b[0;34m,\u001b[0m \u001b[0mname\u001b[0m\u001b[0;34m)\u001b[0m\u001b[0;34m\u001b[0m\u001b[0;34m\u001b[0m\u001b[0m\n\u001b[0m\u001b[1;32m   5068\u001b[0m \u001b[0;34m\u001b[0m\u001b[0m\n\u001b[1;32m   5069\u001b[0m     \u001b[0;32mdef\u001b[0m \u001b[0m__setattr__\u001b[0m\u001b[0;34m(\u001b[0m\u001b[0mself\u001b[0m\u001b[0;34m,\u001b[0m \u001b[0mname\u001b[0m\u001b[0;34m,\u001b[0m \u001b[0mvalue\u001b[0m\u001b[0;34m)\u001b[0m\u001b[0;34m:\u001b[0m\u001b[0;34m\u001b[0m\u001b[0;34m\u001b[0m\u001b[0m\n",
      "\u001b[0;31mAttributeError\u001b[0m: 'DataFrame' object has no attribute 'Id'"
     ]
    }
   ],
   "source": [
    "output = pd.DataFrame({'Id': test_data.Id,\n",
    "                       'SalePrice': inv_y(test_preds)})\n",
    "\n",
    "output.to_csv('submission.csv', index=False)"
   ]
  },
  {
   "cell_type": "code",
   "execution_count": null,
   "metadata": {},
   "outputs": [],
   "source": []
  }
 ],
 "metadata": {
  "kernelspec": {
   "display_name": "Python 3",
   "language": "python",
   "name": "python3"
  },
  "language_info": {
   "codemirror_mode": {
    "name": "ipython",
    "version": 3
   },
   "file_extension": ".py",
   "mimetype": "text/x-python",
   "name": "python",
   "nbconvert_exporter": "python",
   "pygments_lexer": "ipython3",
   "version": "3.7.3"
  }
 },
 "nbformat": 4,
 "nbformat_minor": 2
}
